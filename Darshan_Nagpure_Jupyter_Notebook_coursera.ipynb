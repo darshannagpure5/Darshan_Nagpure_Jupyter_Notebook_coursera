{
 "cells": [
  {
   "cell_type": "code",
   "execution_count": null,
   "id": "82ca36a1-5988-4a16-80c0-b45df38f38f5",
   "metadata": {},
   "outputs": [],
   "source": [
    "# Data Science Ecosystem\n"
   ]
  },
  {
   "cell_type": "code",
   "execution_count": null,
   "id": "3773eacb-6a2d-4722-8480-561f4fa4923c",
   "metadata": {},
   "outputs": [],
   "source": [
    "## Introduction\n",
    "\n",
    "In this notebook, we will explore the data science ecosystem, which includes various tools and libraries that are essential for data analysis, machine learning, and statistical modeling. The objective is to understand how these components interact and contribute to the data science workflow.\n"
   ]
  },
  {
   "cell_type": "code",
   "execution_count": null,
   "id": "cdc72859-eedc-4600-8304-87492e49de22",
   "metadata": {},
   "outputs": [],
   "source": [
    "## Data Science Languages\n",
    "\n",
    "The following languages are commonly used in data science:\n",
    "\n",
    "- Python\n",
    "- R\n",
    "- SQL\n",
    "- Julia\n",
    "- Scala\n",
    "- Java\n",
    "- JavaScript\n"
   ]
  },
  {
   "cell_type": "code",
   "execution_count": null,
   "id": "f654bfce-5cfc-4c64-a3e7-d1d9fa219784",
   "metadata": {},
   "outputs": [],
   "source": [
    "\n",
    "## Data Science Tools\n",
    "\n",
    "| Tool              | Description                                |\n",
    "|-------------------|--------------------------------------------|\n",
    "| Jupyter Notebook   | An interactive environment for creating and sharing documents with live code. |\n",
    "| RStudio           | An integrated development environment for R, ideal for statistical computing and graphics. |\n",
    "| Apache Spark      | A unified analytics engine for large-scale data processing, with built-in modules for streaming, SQL, machine learning, and graph processing. |\n",
    "| Tableau           | A powerful data visualization tool that helps in transforming raw data into an understandable format. |\n",
    "| Scikit-learn      | A Python library for machine learning that provides simple and efficient tools for data mining and data analysis. |\n",
    "| TensorFlow        | An open-source framework for machine learning and deep learning applications. |\n"
   ]
  },
  {
   "cell_type": "code",
   "execution_count": null,
   "id": "c97307b9-d1d5-409f-8c09-bbf5fe7b7b9a",
   "metadata": {},
   "outputs": [],
   "source": [
    "## Data Science Libraries\n",
    "\n",
    "The following libraries are widely used in data science for various tasks:\n",
    "\n",
    "- **Pandas**: A library for data manipulation and analysis, providing data structures and functions needed to work with structured data.\n",
    "- **NumPy**: A library for numerical computations in Python, offering support for arrays, matrices, and a wide range of mathematical functions.\n",
    "- **Matplotlib**: A plotting library for creating static, animated, and interactive visualizations in Python.\n",
    "- **Seaborn**: A statistical data visualization library based on Matplotlib that provides a high-level interface for drawing attractive statistical graphics.\n",
    "- **Scikit-learn**: A machine learning library that provides simple and efficient tools for data mining and data analysis.\n",
    "- **TensorFlow**: An open-source framework for machine learning and deep learning developed by Google.\n",
    "- **Keras**: A high-level neural networks API that runs on top of TensorFlow, designed for easy and fast experimentation.\n",
    "\n"
   ]
  },
  {
   "cell_type": "code",
   "execution_count": null,
   "id": "e83818a3-ea85-486b-9d9f-2d96600ffd43",
   "metadata": {},
   "outputs": [],
   "source": [
    "## Arithmetic Expression Examples\n",
    "\n",
    "In this section, we will explore various arithmetic expressions that can be performed in Python. Arithmetic expressions are mathematical computations that involve operators such as addition, subtraction, multiplication, and division. These expressions are fundamental in data science as they allow us to perform calculations on data efficiently.\n",
    "\n",
    "Here are some common arithmetic operations we can perform:\n",
    "\n",
    "- **Addition**: Combining two numbers to get a sum.\n",
    "- **Subtraction**: Finding the difference between two numbers.\n",
    "- **Multiplication**: Scaling one number by another.\n",
    "- **Division**: Splitting a number into equal parts.\n",
    "\n",
    "We will demonstrate these operations with examples in the subsequent cells.\n"
   ]
  },
  {
   "cell_type": "code",
   "execution_count": 1,
   "id": "20e5b396-0c09-4668-bbdf-ce1a5ff13c97",
   "metadata": {},
   "outputs": [
    {
     "name": "stdout",
     "output_type": "stream",
     "text": [
      "Multiplication Result: 50\n",
      "Addition Result: 15\n"
     ]
    }
   ],
   "source": [
    "# Define two numbers\n",
    "a = 10\n",
    "b = 5\n",
    "\n",
    "# Multiply the numbers\n",
    "multiplication_result = a * b\n",
    "\n",
    "# Add the numbers\n",
    "addition_result = a + b\n",
    "\n",
    "# Print the results\n",
    "print(\"Multiplication Result:\", multiplication_result)\n",
    "print(\"Addition Result:\", addition_result)\n"
   ]
  },
  {
   "cell_type": "code",
   "execution_count": 2,
   "id": "0127848a-a730-4d4b-8dfd-00d632388f55",
   "metadata": {},
   "outputs": [
    {
     "name": "stdout",
     "output_type": "stream",
     "text": [
      "120 minutes is equal to 2.0 hours.\n"
     ]
    }
   ],
   "source": [
    "# Function to convert minutes to hours\n",
    "def convert_minutes_to_hours(minutes):\n",
    "    hours = minutes / 60\n",
    "    return hours\n",
    "\n",
    "# Example usage\n",
    "minutes = 120  # You can change this value to test with different minutes\n",
    "hours = convert_minutes_to_hours(minutes)\n",
    "\n",
    "# Print the result\n",
    "print(f\"{minutes} minutes is equal to {hours} hours.\")\n",
    "\n"
   ]
  },
  {
   "cell_type": "code",
   "execution_count": null,
   "id": "0adf1add-4500-4dad-8f17-994f94a717a4",
   "metadata": {},
   "outputs": [],
   "source": [
    "## Objectives\n",
    "\n",
    "The main objectives of this notebook are:\n",
    "\n",
    "- To understand the fundamental concepts of data science.\n",
    "- To learn how to perform basic arithmetic operations in Python.\n",
    "- To explore the conversion of time units (minutes to hours).\n",
    "- To gain hands-on experience with Jupyter Notebook for data analysis.\n",
    "- To familiarize ourselves with Python libraries used in data science.\n"
   ]
  },
  {
   "cell_type": "code",
   "execution_count": null,
   "id": "c4fdcd2e-543b-413f-89a8-3ff98a950dac",
   "metadata": {},
   "outputs": [],
   "source": [
    "## Author\n",
    "\n",
    "This notebook was created by **Darshan Nagpure**.\n"
   ]
  },
  {
   "cell_type": "code",
   "execution_count": null,
   "id": "f39cfa6e-4039-4198-9fc4-f721e2727697",
   "metadata": {},
   "outputs": [],
   "source": []
  },
  {
   "cell_type": "code",
   "execution_count": null,
   "id": "fbc6291d-22d5-44d9-8a90-a0eb55fb4a7d",
   "metadata": {},
   "outputs": [],
   "source": []
  },
  {
   "cell_type": "code",
   "execution_count": null,
   "id": "eed4b1a8-a928-4be4-8a2f-d8d2db0bc16d",
   "metadata": {},
   "outputs": [],
   "source": []
  }
 ],
 "metadata": {
  "kernelspec": {
   "display_name": "Python 3 (ipykernel)",
   "language": "python",
   "name": "python3"
  },
  "language_info": {
   "codemirror_mode": {
    "name": "ipython",
    "version": 3
   },
   "file_extension": ".py",
   "mimetype": "text/x-python",
   "name": "python",
   "nbconvert_exporter": "python",
   "pygments_lexer": "ipython3",
   "version": "3.12.5"
  }
 },
 "nbformat": 4,
 "nbformat_minor": 5
}
